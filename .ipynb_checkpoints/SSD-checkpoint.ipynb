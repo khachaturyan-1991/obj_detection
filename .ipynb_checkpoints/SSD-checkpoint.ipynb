{
 "cells": [
  {
   "cell_type": "markdown",
   "id": "469d06fa-b099-43a7-bb62-92c466771d4b",
   "metadata": {},
   "source": [
    "# Libs"
   ]
  },
  {
   "cell_type": "code",
   "execution_count": 1,
   "id": "a705a320-2ddd-4a10-aba9-5ceb8c012b0c",
   "metadata": {},
   "outputs": [
    {
     "name": "stderr",
     "output_type": "stream",
     "text": [
      "2023-05-24 00:58:33.247941: I tensorflow/core/platform/cpu_feature_guard.cc:193] This TensorFlow binary is optimized with oneAPI Deep Neural Network Library (oneDNN) to use the following CPU instructions in performance-critical operations:  SSE4.1 SSE4.2\n",
      "To enable them in other operations, rebuild TensorFlow with the appropriate compiler flags.\n"
     ]
    }
   ],
   "source": [
    "import os\n",
    "import pathlib\n",
    "import tensorflow as tf\n",
    "\n",
    "import time\n",
    "from object_detection.utils import label_map_util\n",
    "from object_detection.utils import visualization_utils as viz_utils\n",
    "import numpy as np\n",
    "from PIL import Image\n",
    "import matplotlib.pyplot as plt\n",
    "\n",
    "%matplolib inline"
   ]
  },
  {
   "cell_type": "markdown",
   "id": "640efa42-0a91-4c66-81ff-19637bb2c06b",
   "metadata": {},
   "source": [
    "# data"
   ]
  },
  {
   "cell_type": "code",
   "execution_count": 97,
   "id": "95a8494b-37cb-46d1-ac43-d03de123779c",
   "metadata": {},
   "outputs": [],
   "source": [
    "list_of_images = \"intersection.jpeg, traffic.jpeg, jungle.jpeg, walkingdog.jpeg, us.jpeg\".split(\", \")"
   ]
  },
  {
   "cell_type": "markdown",
   "id": "663b5c33-d317-4088-b9ef-38e29fec7561",
   "metadata": {},
   "source": [
    "# get_model"
   ]
  },
  {
   "cell_type": "code",
   "execution_count": 25,
   "id": "97fe38a9-314c-4dfe-ad41-e03d160a57f6",
   "metadata": {},
   "outputs": [],
   "source": [
    "# getting the model from\n",
    "# https://github.com/tensorflow/models/blob/master/research/object_detection/g3doc/tf2_detection_zoo.md\n",
    "\n",
    "url = 'http://download.tensorflow.org/models/object_detection/tf2/20200711/ssd_resnet101_v1_fpn_640x640_coco17_tpu-8.tar.gz'\n",
    "\n",
    "PATH_TO_MODEL_DIR = tf.keras.utils.get_file(\n",
    "    fname='ssd_resnet101_v1_fpn_640x640_coco17_tpu-8',\n",
    "    origin=url,\n",
    "    untar=True)\n",
    "\n",
    "PATH_TO_SAVED_MODEL = PATH_TO_MODEL_DIR + \"/saved_model\"\n",
    "detect_fn = tf.saved_model.load(PATH_TO_SAVED_MODEL)\n",
    "\n",
    "# download labels\n",
    "url = 'https://raw.githubusercontent.com/tensorflow/models/master/research/object_detection/data/mscoco_label_map.pbtxt'\n",
    "\n",
    "PATH_TO_LABELS = tf.keras.utils.get_file(\n",
    "    fname='mscoco_label_map.pbtxt',\n",
    "    origin=url,\n",
    "    untar=False)\n",
    "\n",
    "category_index = label_map_util.create_category_index_from_labelmap(\n",
    "    PATH_TO_LABELS,\n",
    "    use_display_name=True)\n",
    "\n",
    "# optionaly you can pring existing categories\n",
    "#print(\"Here is a list of existing categories:\", category_index)"
   ]
  },
  {
   "cell_type": "markdown",
   "id": "6bb287e2-6f13-45b9-8678-abe8630bee30",
   "metadata": {},
   "source": [
    "# detectionFucntion"
   ]
  },
  {
   "cell_type": "code",
   "execution_count": 100,
   "id": "bea92ddb-08ee-4725-a028-75352a1ca687",
   "metadata": {},
   "outputs": [],
   "source": [
    "def detect_objects(img):\n",
    "    \n",
    "    img_to_np = np.array(Image.open(img))\n",
    "    img_to_tensor = tf.convert_to_tensor(img_to_np)\n",
    "    \n",
    "    input_tensor = img_to_tensor[tf.newaxis, ...]\n",
    "    \n",
    "    detections = detect_fn(input_tensor)\n",
    "    \n",
    "    num_detections = int(detections.pop('num_detections'))\n",
    "    detections = {key: value[0, :num_detections].numpy()\n",
    "                   for key, value in detections.items()}\n",
    "    detections['num_detections'] = num_detections\n",
    "\n",
    "    detections['detection_classes'] = detections['detection_classes'].astype(np.int64)\n",
    "\n",
    "    image_np_with_detections = img_to_np.copy()\n",
    "\n",
    "    viz_utils.visualize_boxes_and_labels_on_image_array(\n",
    "          image_np_with_detections,\n",
    "          detections['detection_boxes'],\n",
    "          detections['detection_classes'],\n",
    "          detections['detection_scores'],\n",
    "          category_index,\n",
    "          use_normalized_coordinates=True,\n",
    "          max_boxes_to_draw=200,\n",
    "          min_score_thresh=.30,\n",
    "          agnostic_mode=False)\n",
    "\n",
    "    plt.figure(figsize=(15, 10))\n",
    "    plt.imshow(image_np_with_detections)\n",
    "    print(img)\n",
    "    plt.savefig(f\"detected_{img}\")"
   ]
  },
  {
   "cell_type": "markdown",
   "id": "44c6a18c-bae5-4a02-9c36-2a4753d60baf",
   "metadata": {},
   "source": [
    "# detect"
   ]
  },
  {
   "cell_type": "code",
   "execution_count": 101,
   "id": "d99be275-2214-46df-8735-1e1a21e39107",
   "metadata": {},
   "outputs": [
    {
     "name": "stdout",
     "output_type": "stream",
     "text": [
      "intersection.jpeg\n",
      "traffic.jpeg\n",
      "jungle.jpeg\n",
      "walkingdog.jpeg\n",
      "us.jpeg\n"
     ]
    }
   ],
   "source": [
    "for img in list_of_images:\n",
    "    detect_objects(img)"
   ]
  },
  {
   "cell_type": "code",
   "execution_count": null,
   "id": "3dd0b8ec-83c9-493e-8b27-f3bda5b9d1b7",
   "metadata": {},
   "outputs": [],
   "source": []
  }
 ],
 "metadata": {
  "kernelspec": {
   "display_name": "gig",
   "language": "python",
   "name": "gig"
  },
  "language_info": {
   "codemirror_mode": {
    "name": "ipython",
    "version": 3
   },
   "file_extension": ".py",
   "mimetype": "text/x-python",
   "name": "python",
   "nbconvert_exporter": "python",
   "pygments_lexer": "ipython3",
   "version": "3.10.10"
  }
 },
 "nbformat": 4,
 "nbformat_minor": 5
}
